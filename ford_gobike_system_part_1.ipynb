{
 "cells": [
  {
   "cell_type": "markdown",
   "id": "5c939f2a",
   "metadata": {},
   "source": [
    "# Part 1 - Ford Gobike System Exploration"
   ]
  },
  {
   "cell_type": "markdown",
   "id": "2cbbbfac",
   "metadata": {},
   "source": [
    "# By: Solomon Izuchukwu Ajaero"
   ]
  },
  {
   "cell_type": "markdown",
   "id": "50403992",
   "metadata": {},
   "source": [
    "# Introduction"
   ]
  },
  {
   "cell_type": "markdown",
   "id": "89989ea3",
   "metadata": {},
   "source": [
    "The dataset includes information about individual rides made in a bike sharing system covering the greater San Francisco Bay area."
   ]
  },
  {
   "cell_type": "code",
   "execution_count": 3,
   "id": "9065d343",
   "metadata": {},
   "outputs": [],
   "source": [
    "#import all packages\n",
    "import pandas as pd\n",
    "import seaborn as sb\n",
    "import numpy as np\n",
    "import matplotlib.pyplot as plt\n",
    "from geopy.distance import great_circle\n",
    "sb.set(style = 'whitegrid')\n",
    "%matplotlib inline\n",
    "#import geopandas as gpd"
   ]
  },
  {
   "cell_type": "code",
   "execution_count": 4,
   "id": "b6e47945",
   "metadata": {},
   "outputs": [
    {
     "data": {
      "text/html": [
       "<div>\n",
       "<style scoped>\n",
       "    .dataframe tbody tr th:only-of-type {\n",
       "        vertical-align: middle;\n",
       "    }\n",
       "\n",
       "    .dataframe tbody tr th {\n",
       "        vertical-align: top;\n",
       "    }\n",
       "\n",
       "    .dataframe thead th {\n",
       "        text-align: right;\n",
       "    }\n",
       "</style>\n",
       "<table border=\"1\" class=\"dataframe\">\n",
       "  <thead>\n",
       "    <tr style=\"text-align: right;\">\n",
       "      <th></th>\n",
       "      <th>duration_sec</th>\n",
       "      <th>start_time</th>\n",
       "      <th>end_time</th>\n",
       "      <th>start_station_id</th>\n",
       "      <th>start_station_name</th>\n",
       "      <th>start_station_latitude</th>\n",
       "      <th>start_station_longitude</th>\n",
       "      <th>end_station_id</th>\n",
       "      <th>end_station_name</th>\n",
       "      <th>end_station_latitude</th>\n",
       "      <th>end_station_longitude</th>\n",
       "      <th>bike_id</th>\n",
       "      <th>user_type</th>\n",
       "      <th>member_birth_year</th>\n",
       "      <th>member_gender</th>\n",
       "      <th>bike_share_for_all_trip</th>\n",
       "    </tr>\n",
       "  </thead>\n",
       "  <tbody>\n",
       "    <tr>\n",
       "      <th>0</th>\n",
       "      <td>52185</td>\n",
       "      <td>2019-02-28 17:32:10.1450</td>\n",
       "      <td>2019-03-01 08:01:55.9750</td>\n",
       "      <td>21.0</td>\n",
       "      <td>Montgomery St BART Station (Market St at 2nd St)</td>\n",
       "      <td>37.789625</td>\n",
       "      <td>-122.400811</td>\n",
       "      <td>13.0</td>\n",
       "      <td>Commercial St at Montgomery St</td>\n",
       "      <td>37.794231</td>\n",
       "      <td>-122.402923</td>\n",
       "      <td>4902</td>\n",
       "      <td>Customer</td>\n",
       "      <td>1984.0</td>\n",
       "      <td>Male</td>\n",
       "      <td>No</td>\n",
       "    </tr>\n",
       "    <tr>\n",
       "      <th>1</th>\n",
       "      <td>42521</td>\n",
       "      <td>2019-02-28 18:53:21.7890</td>\n",
       "      <td>2019-03-01 06:42:03.0560</td>\n",
       "      <td>23.0</td>\n",
       "      <td>The Embarcadero at Steuart St</td>\n",
       "      <td>37.791464</td>\n",
       "      <td>-122.391034</td>\n",
       "      <td>81.0</td>\n",
       "      <td>Berry St at 4th St</td>\n",
       "      <td>37.775880</td>\n",
       "      <td>-122.393170</td>\n",
       "      <td>2535</td>\n",
       "      <td>Customer</td>\n",
       "      <td>NaN</td>\n",
       "      <td>NaN</td>\n",
       "      <td>No</td>\n",
       "    </tr>\n",
       "    <tr>\n",
       "      <th>2</th>\n",
       "      <td>61854</td>\n",
       "      <td>2019-02-28 12:13:13.2180</td>\n",
       "      <td>2019-03-01 05:24:08.1460</td>\n",
       "      <td>86.0</td>\n",
       "      <td>Market St at Dolores St</td>\n",
       "      <td>37.769305</td>\n",
       "      <td>-122.426826</td>\n",
       "      <td>3.0</td>\n",
       "      <td>Powell St BART Station (Market St at 4th St)</td>\n",
       "      <td>37.786375</td>\n",
       "      <td>-122.404904</td>\n",
       "      <td>5905</td>\n",
       "      <td>Customer</td>\n",
       "      <td>1972.0</td>\n",
       "      <td>Male</td>\n",
       "      <td>No</td>\n",
       "    </tr>\n",
       "    <tr>\n",
       "      <th>3</th>\n",
       "      <td>36490</td>\n",
       "      <td>2019-02-28 17:54:26.0100</td>\n",
       "      <td>2019-03-01 04:02:36.8420</td>\n",
       "      <td>375.0</td>\n",
       "      <td>Grove St at Masonic Ave</td>\n",
       "      <td>37.774836</td>\n",
       "      <td>-122.446546</td>\n",
       "      <td>70.0</td>\n",
       "      <td>Central Ave at Fell St</td>\n",
       "      <td>37.773311</td>\n",
       "      <td>-122.444293</td>\n",
       "      <td>6638</td>\n",
       "      <td>Subscriber</td>\n",
       "      <td>1989.0</td>\n",
       "      <td>Other</td>\n",
       "      <td>No</td>\n",
       "    </tr>\n",
       "    <tr>\n",
       "      <th>4</th>\n",
       "      <td>1585</td>\n",
       "      <td>2019-02-28 23:54:18.5490</td>\n",
       "      <td>2019-03-01 00:20:44.0740</td>\n",
       "      <td>7.0</td>\n",
       "      <td>Frank H Ogawa Plaza</td>\n",
       "      <td>37.804562</td>\n",
       "      <td>-122.271738</td>\n",
       "      <td>222.0</td>\n",
       "      <td>10th Ave at E 15th St</td>\n",
       "      <td>37.792714</td>\n",
       "      <td>-122.248780</td>\n",
       "      <td>4898</td>\n",
       "      <td>Subscriber</td>\n",
       "      <td>1974.0</td>\n",
       "      <td>Male</td>\n",
       "      <td>Yes</td>\n",
       "    </tr>\n",
       "  </tbody>\n",
       "</table>\n",
       "</div>"
      ],
      "text/plain": [
       "   duration_sec                start_time                  end_time  \\\n",
       "0         52185  2019-02-28 17:32:10.1450  2019-03-01 08:01:55.9750   \n",
       "1         42521  2019-02-28 18:53:21.7890  2019-03-01 06:42:03.0560   \n",
       "2         61854  2019-02-28 12:13:13.2180  2019-03-01 05:24:08.1460   \n",
       "3         36490  2019-02-28 17:54:26.0100  2019-03-01 04:02:36.8420   \n",
       "4          1585  2019-02-28 23:54:18.5490  2019-03-01 00:20:44.0740   \n",
       "\n",
       "   start_station_id                                start_station_name  \\\n",
       "0              21.0  Montgomery St BART Station (Market St at 2nd St)   \n",
       "1              23.0                     The Embarcadero at Steuart St   \n",
       "2              86.0                           Market St at Dolores St   \n",
       "3             375.0                           Grove St at Masonic Ave   \n",
       "4               7.0                               Frank H Ogawa Plaza   \n",
       "\n",
       "   start_station_latitude  start_station_longitude  end_station_id  \\\n",
       "0               37.789625              -122.400811            13.0   \n",
       "1               37.791464              -122.391034            81.0   \n",
       "2               37.769305              -122.426826             3.0   \n",
       "3               37.774836              -122.446546            70.0   \n",
       "4               37.804562              -122.271738           222.0   \n",
       "\n",
       "                               end_station_name  end_station_latitude  \\\n",
       "0                Commercial St at Montgomery St             37.794231   \n",
       "1                            Berry St at 4th St             37.775880   \n",
       "2  Powell St BART Station (Market St at 4th St)             37.786375   \n",
       "3                        Central Ave at Fell St             37.773311   \n",
       "4                         10th Ave at E 15th St             37.792714   \n",
       "\n",
       "   end_station_longitude  bike_id   user_type  member_birth_year  \\\n",
       "0            -122.402923     4902    Customer             1984.0   \n",
       "1            -122.393170     2535    Customer                NaN   \n",
       "2            -122.404904     5905    Customer             1972.0   \n",
       "3            -122.444293     6638  Subscriber             1989.0   \n",
       "4            -122.248780     4898  Subscriber             1974.0   \n",
       "\n",
       "  member_gender bike_share_for_all_trip  \n",
       "0          Male                      No  \n",
       "1           NaN                      No  \n",
       "2          Male                      No  \n",
       "3         Other                      No  \n",
       "4          Male                     Yes  "
      ]
     },
     "execution_count": 4,
     "metadata": {},
     "output_type": "execute_result"
    }
   ],
   "source": [
    "ford_gobike = pd.read_csv('201902-fordgobike-tripdata.csv')\n",
    "ford_gobike.head()"
   ]
  },
  {
   "cell_type": "markdown",
   "id": "df34a9d1",
   "metadata": {},
   "source": [
    "# Data Wrangling"
   ]
  },
  {
   "cell_type": "code",
   "execution_count": 3,
   "id": "97e9505e",
   "metadata": {},
   "outputs": [
    {
     "name": "stdout",
     "output_type": "stream",
     "text": [
      "<class 'pandas.core.frame.DataFrame'>\n",
      "RangeIndex: 183412 entries, 0 to 183411\n",
      "Data columns (total 16 columns):\n",
      " #   Column                   Non-Null Count   Dtype  \n",
      "---  ------                   --------------   -----  \n",
      " 0   duration_sec             183412 non-null  int64  \n",
      " 1   start_time               183412 non-null  object \n",
      " 2   end_time                 183412 non-null  object \n",
      " 3   start_station_id         183215 non-null  float64\n",
      " 4   start_station_name       183215 non-null  object \n",
      " 5   start_station_latitude   183412 non-null  float64\n",
      " 6   start_station_longitude  183412 non-null  float64\n",
      " 7   end_station_id           183215 non-null  float64\n",
      " 8   end_station_name         183215 non-null  object \n",
      " 9   end_station_latitude     183412 non-null  float64\n",
      " 10  end_station_longitude    183412 non-null  float64\n",
      " 11  bike_id                  183412 non-null  int64  \n",
      " 12  user_type                183412 non-null  object \n",
      " 13  member_birth_year        175147 non-null  float64\n",
      " 14  member_gender            175147 non-null  object \n",
      " 15  bike_share_for_all_trip  183412 non-null  object \n",
      "dtypes: float64(7), int64(2), object(7)\n",
      "memory usage: 22.4+ MB\n"
     ]
    }
   ],
   "source": [
    "ford_gobike.info()"
   ]
  },
  {
   "cell_type": "code",
   "execution_count": 4,
   "id": "4f41f0dd",
   "metadata": {},
   "outputs": [
    {
     "data": {
      "text/plain": [
       "duration_sec                  0\n",
       "start_time                    0\n",
       "end_time                      0\n",
       "start_station_id            197\n",
       "start_station_name          197\n",
       "start_station_latitude        0\n",
       "start_station_longitude       0\n",
       "end_station_id              197\n",
       "end_station_name            197\n",
       "end_station_latitude          0\n",
       "end_station_longitude         0\n",
       "bike_id                       0\n",
       "user_type                     0\n",
       "member_birth_year          8265\n",
       "member_gender              8265\n",
       "bike_share_for_all_trip       0\n",
       "dtype: int64"
      ]
     },
     "execution_count": 4,
     "metadata": {},
     "output_type": "execute_result"
    }
   ],
   "source": [
    "#calculalte the number missing values in each row of the dataset\n",
    "ford_gobike.isnull().sum() "
   ]
  },
  {
   "cell_type": "code",
   "execution_count": 5,
   "id": "06171e6c",
   "metadata": {},
   "outputs": [
    {
     "data": {
      "text/plain": [
       "Subscriber    163544\n",
       "Customer       19868\n",
       "Name: user_type, dtype: int64"
      ]
     },
     "execution_count": 5,
     "metadata": {},
     "output_type": "execute_result"
    }
   ],
   "source": [
    "ford_gobike.user_type.value_counts() "
   ]
  },
  {
   "cell_type": "code",
   "execution_count": 6,
   "id": "edce470b",
   "metadata": {},
   "outputs": [
    {
     "data": {
      "text/plain": [
       "array([1984.,   nan, 1972., 1989., 1974., 1959., 1983., 1988., 1992.,\n",
       "       1996., 1993., 1990., 1981., 1975., 1978., 1991., 1997., 1986.,\n",
       "       2000., 1982., 1995., 1980., 1973., 1985., 1971., 1979., 1967.,\n",
       "       1998., 1994., 1977., 1999., 1987., 1969., 1963., 1976., 1964.,\n",
       "       1965., 1961., 1968., 1966., 1962., 1954., 1958., 1960., 1970.,\n",
       "       1956., 1957., 1945., 1900., 1952., 1948., 1951., 1941., 1950.,\n",
       "       1949., 1953., 1955., 1946., 1947., 1931., 1943., 1942., 1920.,\n",
       "       1933., 2001., 1878., 1901., 1944., 1928., 1934., 1939., 1930.,\n",
       "       1902., 1910., 1938., 1927.])"
      ]
     },
     "execution_count": 6,
     "metadata": {},
     "output_type": "execute_result"
    }
   ],
   "source": [
    "ford_gobike.member_birth_year.unique()"
   ]
  },
  {
   "cell_type": "code",
   "execution_count": null,
   "id": "dcabd67c",
   "metadata": {},
   "outputs": [],
   "source": []
  },
  {
   "cell_type": "code",
   "execution_count": 7,
   "id": "52df9b4b",
   "metadata": {},
   "outputs": [
    {
     "data": {
      "text/html": [
       "<div>\n",
       "<style scoped>\n",
       "    .dataframe tbody tr th:only-of-type {\n",
       "        vertical-align: middle;\n",
       "    }\n",
       "\n",
       "    .dataframe tbody tr th {\n",
       "        vertical-align: top;\n",
       "    }\n",
       "\n",
       "    .dataframe thead th {\n",
       "        text-align: right;\n",
       "    }\n",
       "</style>\n",
       "<table border=\"1\" class=\"dataframe\">\n",
       "  <thead>\n",
       "    <tr style=\"text-align: right;\">\n",
       "      <th></th>\n",
       "      <th>duration_sec</th>\n",
       "      <th>start_time</th>\n",
       "      <th>end_time</th>\n",
       "      <th>start_station_id</th>\n",
       "      <th>start_station_name</th>\n",
       "      <th>start_station_latitude</th>\n",
       "      <th>start_station_longitude</th>\n",
       "      <th>end_station_id</th>\n",
       "      <th>end_station_name</th>\n",
       "      <th>end_station_latitude</th>\n",
       "      <th>end_station_longitude</th>\n",
       "      <th>bike_id</th>\n",
       "      <th>user_type</th>\n",
       "      <th>member_birth_year</th>\n",
       "      <th>member_gender</th>\n",
       "      <th>bike_share_for_all_trip</th>\n",
       "    </tr>\n",
       "  </thead>\n",
       "  <tbody>\n",
       "    <tr>\n",
       "      <th>29716</th>\n",
       "      <td>403</td>\n",
       "      <td>2019-02-25 06:46:30.4480</td>\n",
       "      <td>2019-02-25 06:53:13.9140</td>\n",
       "      <td>284.0</td>\n",
       "      <td>Yerba Buena Center for the Arts (Howard St at ...</td>\n",
       "      <td>37.784872</td>\n",
       "      <td>-122.400876</td>\n",
       "      <td>30.0</td>\n",
       "      <td>San Francisco Caltrain (Townsend St at 4th St)</td>\n",
       "      <td>37.776598</td>\n",
       "      <td>-122.395282</td>\n",
       "      <td>3279</td>\n",
       "      <td>Subscriber</td>\n",
       "      <td>1901.0</td>\n",
       "      <td>Male</td>\n",
       "      <td>No</td>\n",
       "    </tr>\n",
       "    <tr>\n",
       "      <th>41246</th>\n",
       "      <td>539</td>\n",
       "      <td>2019-02-22 18:46:15.4030</td>\n",
       "      <td>2019-02-22 18:55:15.0530</td>\n",
       "      <td>30.0</td>\n",
       "      <td>San Francisco Caltrain (Townsend St at 4th St)</td>\n",
       "      <td>37.776598</td>\n",
       "      <td>-122.395282</td>\n",
       "      <td>25.0</td>\n",
       "      <td>Howard St at 2nd St</td>\n",
       "      <td>37.787522</td>\n",
       "      <td>-122.397405</td>\n",
       "      <td>5859</td>\n",
       "      <td>Subscriber</td>\n",
       "      <td>1901.0</td>\n",
       "      <td>Male</td>\n",
       "      <td>No</td>\n",
       "    </tr>\n",
       "    <tr>\n",
       "      <th>48804</th>\n",
       "      <td>387</td>\n",
       "      <td>2019-02-22 07:01:50.4310</td>\n",
       "      <td>2019-02-22 07:08:18.0800</td>\n",
       "      <td>284.0</td>\n",
       "      <td>Yerba Buena Center for the Arts (Howard St at ...</td>\n",
       "      <td>37.784872</td>\n",
       "      <td>-122.400876</td>\n",
       "      <td>30.0</td>\n",
       "      <td>San Francisco Caltrain (Townsend St at 4th St)</td>\n",
       "      <td>37.776598</td>\n",
       "      <td>-122.395282</td>\n",
       "      <td>5157</td>\n",
       "      <td>Subscriber</td>\n",
       "      <td>1901.0</td>\n",
       "      <td>Male</td>\n",
       "      <td>No</td>\n",
       "    </tr>\n",
       "    <tr>\n",
       "      <th>138297</th>\n",
       "      <td>491</td>\n",
       "      <td>2019-02-08 07:44:39.4610</td>\n",
       "      <td>2019-02-08 07:52:51.1400</td>\n",
       "      <td>284.0</td>\n",
       "      <td>Yerba Buena Center for the Arts (Howard St at ...</td>\n",
       "      <td>37.784872</td>\n",
       "      <td>-122.400876</td>\n",
       "      <td>30.0</td>\n",
       "      <td>San Francisco Caltrain (Townsend St at 4th St)</td>\n",
       "      <td>37.776598</td>\n",
       "      <td>-122.395282</td>\n",
       "      <td>5276</td>\n",
       "      <td>Subscriber</td>\n",
       "      <td>1901.0</td>\n",
       "      <td>Male</td>\n",
       "      <td>No</td>\n",
       "    </tr>\n",
       "    <tr>\n",
       "      <th>147519</th>\n",
       "      <td>460</td>\n",
       "      <td>2019-02-07 07:44:28.2170</td>\n",
       "      <td>2019-02-07 07:52:08.3900</td>\n",
       "      <td>284.0</td>\n",
       "      <td>Yerba Buena Center for the Arts (Howard St at ...</td>\n",
       "      <td>37.784872</td>\n",
       "      <td>-122.400876</td>\n",
       "      <td>30.0</td>\n",
       "      <td>San Francisco Caltrain (Townsend St at 4th St)</td>\n",
       "      <td>37.776598</td>\n",
       "      <td>-122.395282</td>\n",
       "      <td>3646</td>\n",
       "      <td>Subscriber</td>\n",
       "      <td>1901.0</td>\n",
       "      <td>Male</td>\n",
       "      <td>No</td>\n",
       "    </tr>\n",
       "    <tr>\n",
       "      <th>182830</th>\n",
       "      <td>428</td>\n",
       "      <td>2019-02-01 07:45:05.9340</td>\n",
       "      <td>2019-02-01 07:52:14.9220</td>\n",
       "      <td>284.0</td>\n",
       "      <td>Yerba Buena Center for the Arts (Howard St at ...</td>\n",
       "      <td>37.784872</td>\n",
       "      <td>-122.400876</td>\n",
       "      <td>67.0</td>\n",
       "      <td>San Francisco Caltrain Station 2  (Townsend St...</td>\n",
       "      <td>37.776639</td>\n",
       "      <td>-122.395526</td>\n",
       "      <td>5031</td>\n",
       "      <td>Subscriber</td>\n",
       "      <td>1901.0</td>\n",
       "      <td>Male</td>\n",
       "      <td>No</td>\n",
       "    </tr>\n",
       "  </tbody>\n",
       "</table>\n",
       "</div>"
      ],
      "text/plain": [
       "        duration_sec                start_time                  end_time  \\\n",
       "29716            403  2019-02-25 06:46:30.4480  2019-02-25 06:53:13.9140   \n",
       "41246            539  2019-02-22 18:46:15.4030  2019-02-22 18:55:15.0530   \n",
       "48804            387  2019-02-22 07:01:50.4310  2019-02-22 07:08:18.0800   \n",
       "138297           491  2019-02-08 07:44:39.4610  2019-02-08 07:52:51.1400   \n",
       "147519           460  2019-02-07 07:44:28.2170  2019-02-07 07:52:08.3900   \n",
       "182830           428  2019-02-01 07:45:05.9340  2019-02-01 07:52:14.9220   \n",
       "\n",
       "        start_station_id                                 start_station_name  \\\n",
       "29716              284.0  Yerba Buena Center for the Arts (Howard St at ...   \n",
       "41246               30.0     San Francisco Caltrain (Townsend St at 4th St)   \n",
       "48804              284.0  Yerba Buena Center for the Arts (Howard St at ...   \n",
       "138297             284.0  Yerba Buena Center for the Arts (Howard St at ...   \n",
       "147519             284.0  Yerba Buena Center for the Arts (Howard St at ...   \n",
       "182830             284.0  Yerba Buena Center for the Arts (Howard St at ...   \n",
       "\n",
       "        start_station_latitude  start_station_longitude  end_station_id  \\\n",
       "29716                37.784872              -122.400876            30.0   \n",
       "41246                37.776598              -122.395282            25.0   \n",
       "48804                37.784872              -122.400876            30.0   \n",
       "138297               37.784872              -122.400876            30.0   \n",
       "147519               37.784872              -122.400876            30.0   \n",
       "182830               37.784872              -122.400876            67.0   \n",
       "\n",
       "                                         end_station_name  \\\n",
       "29716      San Francisco Caltrain (Townsend St at 4th St)   \n",
       "41246                                 Howard St at 2nd St   \n",
       "48804      San Francisco Caltrain (Townsend St at 4th St)   \n",
       "138297     San Francisco Caltrain (Townsend St at 4th St)   \n",
       "147519     San Francisco Caltrain (Townsend St at 4th St)   \n",
       "182830  San Francisco Caltrain Station 2  (Townsend St...   \n",
       "\n",
       "        end_station_latitude  end_station_longitude  bike_id   user_type  \\\n",
       "29716              37.776598            -122.395282     3279  Subscriber   \n",
       "41246              37.787522            -122.397405     5859  Subscriber   \n",
       "48804              37.776598            -122.395282     5157  Subscriber   \n",
       "138297             37.776598            -122.395282     5276  Subscriber   \n",
       "147519             37.776598            -122.395282     3646  Subscriber   \n",
       "182830             37.776639            -122.395526     5031  Subscriber   \n",
       "\n",
       "        member_birth_year member_gender bike_share_for_all_trip  \n",
       "29716              1901.0          Male                      No  \n",
       "41246              1901.0          Male                      No  \n",
       "48804              1901.0          Male                      No  \n",
       "138297             1901.0          Male                      No  \n",
       "147519             1901.0          Male                      No  \n",
       "182830             1901.0          Male                      No  "
      ]
     },
     "execution_count": 7,
     "metadata": {},
     "output_type": "execute_result"
    }
   ],
   "source": [
    "ford_gobike.query('member_birth_year == 1901.0')"
   ]
  },
  {
   "cell_type": "markdown",
   "id": "6c2cf0b5",
   "metadata": {},
   "source": [
    "# Data Cleaning"
   ]
  },
  {
   "cell_type": "code",
   "execution_count": 5,
   "id": "a5cd2965",
   "metadata": {},
   "outputs": [],
   "source": [
    "# drop any row with missing data\n",
    "ford_gobike = ford_gobike.dropna() "
   ]
  },
  {
   "cell_type": "code",
   "execution_count": 4,
   "id": "5a1f2618",
   "metadata": {},
   "outputs": [
    {
     "data": {
      "text/plain": [
       "duration_sec               0\n",
       "start_time                 0\n",
       "end_time                   0\n",
       "start_station_id           0\n",
       "start_station_name         0\n",
       "start_station_latitude     0\n",
       "start_station_longitude    0\n",
       "end_station_id             0\n",
       "end_station_name           0\n",
       "end_station_latitude       0\n",
       "end_station_longitude      0\n",
       "bike_id                    0\n",
       "user_type                  0\n",
       "member_birth_year          0\n",
       "member_gender              0\n",
       "bike_share_for_all_trip    0\n",
       "dtype: int64"
      ]
     },
     "execution_count": 4,
     "metadata": {},
     "output_type": "execute_result"
    }
   ],
   "source": [
    "ford_gobike.isnull().sum()"
   ]
  },
  {
   "cell_type": "code",
   "execution_count": 6,
   "id": "d4916187",
   "metadata": {},
   "outputs": [
    {
     "data": {
      "text/plain": [
       "array([1984, 1972, 1989, 1974, 1959, 1983, 1988, 1992, 1996, 1993, 1990,\n",
       "       1981, 1975, 1978, 1991, 1997, 1986, 2000, 1982, 1995, 1980, 1973,\n",
       "       1985, 1971, 1979, 1967, 1998, 1994, 1977, 1999, 1987, 1969, 1963,\n",
       "       1976, 1964, 1965, 1961, 1968, 1966, 1962, 1954, 1958, 1960, 1970,\n",
       "       1956, 1957, 1945, 1900, 1952, 1948, 1951, 1941, 1950, 1949, 1953,\n",
       "       1955, 1946, 1947, 1931, 1943, 1942, 1920, 1933, 2001, 1878, 1901,\n",
       "       1944, 1928, 1934, 1939, 1930, 1902, 1910, 1938, 1927])"
      ]
     },
     "execution_count": 6,
     "metadata": {},
     "output_type": "execute_result"
    }
   ],
   "source": [
    "#convert member birth year to int\n",
    "ford_gobike['member_birth_year'] = ford_gobike.member_birth_year.astype(int) \n",
    "\n",
    "ford_gobike.member_birth_year.unique()"
   ]
  },
  {
   "cell_type": "code",
   "execution_count": 6,
   "id": "ae25ff6b",
   "metadata": {},
   "outputs": [
    {
     "data": {
      "text/html": [
       "<div>\n",
       "<style scoped>\n",
       "    .dataframe tbody tr th:only-of-type {\n",
       "        vertical-align: middle;\n",
       "    }\n",
       "\n",
       "    .dataframe tbody tr th {\n",
       "        vertical-align: top;\n",
       "    }\n",
       "\n",
       "    .dataframe thead th {\n",
       "        text-align: right;\n",
       "    }\n",
       "</style>\n",
       "<table border=\"1\" class=\"dataframe\">\n",
       "  <thead>\n",
       "    <tr style=\"text-align: right;\">\n",
       "      <th></th>\n",
       "      <th>duration_sec</th>\n",
       "      <th>start_time</th>\n",
       "      <th>end_time</th>\n",
       "      <th>start_station_id</th>\n",
       "      <th>start_station_name</th>\n",
       "      <th>start_station_latitude</th>\n",
       "      <th>start_station_longitude</th>\n",
       "      <th>end_station_id</th>\n",
       "      <th>end_station_name</th>\n",
       "      <th>end_station_latitude</th>\n",
       "      <th>end_station_longitude</th>\n",
       "      <th>bike_id</th>\n",
       "      <th>user_type</th>\n",
       "      <th>member_birth_year</th>\n",
       "      <th>member_gender</th>\n",
       "      <th>bike_share_for_all_trip</th>\n",
       "    </tr>\n",
       "  </thead>\n",
       "  <tbody>\n",
       "    <tr>\n",
       "      <th>0</th>\n",
       "      <td>52185</td>\n",
       "      <td>2019-02-28 17:32:10.1450</td>\n",
       "      <td>2019-03-01 08:01:55.9750</td>\n",
       "      <td>21.0</td>\n",
       "      <td>Montgomery St BART Station (Market St at 2nd St)</td>\n",
       "      <td>37.789625</td>\n",
       "      <td>-122.400811</td>\n",
       "      <td>13.0</td>\n",
       "      <td>Commercial St at Montgomery St</td>\n",
       "      <td>37.794231</td>\n",
       "      <td>-122.402923</td>\n",
       "      <td>4902</td>\n",
       "      <td>Customer</td>\n",
       "      <td>1984</td>\n",
       "      <td>Male</td>\n",
       "      <td>No</td>\n",
       "    </tr>\n",
       "    <tr>\n",
       "      <th>2</th>\n",
       "      <td>61854</td>\n",
       "      <td>2019-02-28 12:13:13.2180</td>\n",
       "      <td>2019-03-01 05:24:08.1460</td>\n",
       "      <td>86.0</td>\n",
       "      <td>Market St at Dolores St</td>\n",
       "      <td>37.769305</td>\n",
       "      <td>-122.426826</td>\n",
       "      <td>3.0</td>\n",
       "      <td>Powell St BART Station (Market St at 4th St)</td>\n",
       "      <td>37.786375</td>\n",
       "      <td>-122.404904</td>\n",
       "      <td>5905</td>\n",
       "      <td>Customer</td>\n",
       "      <td>1972</td>\n",
       "      <td>Male</td>\n",
       "      <td>No</td>\n",
       "    </tr>\n",
       "  </tbody>\n",
       "</table>\n",
       "</div>"
      ],
      "text/plain": [
       "   duration_sec                start_time                  end_time  \\\n",
       "0         52185  2019-02-28 17:32:10.1450  2019-03-01 08:01:55.9750   \n",
       "2         61854  2019-02-28 12:13:13.2180  2019-03-01 05:24:08.1460   \n",
       "\n",
       "   start_station_id                                start_station_name  \\\n",
       "0              21.0  Montgomery St BART Station (Market St at 2nd St)   \n",
       "2              86.0                           Market St at Dolores St   \n",
       "\n",
       "   start_station_latitude  start_station_longitude  end_station_id  \\\n",
       "0               37.789625              -122.400811            13.0   \n",
       "2               37.769305              -122.426826             3.0   \n",
       "\n",
       "                               end_station_name  end_station_latitude  \\\n",
       "0                Commercial St at Montgomery St             37.794231   \n",
       "2  Powell St BART Station (Market St at 4th St)             37.786375   \n",
       "\n",
       "   end_station_longitude  bike_id user_type  member_birth_year member_gender  \\\n",
       "0            -122.402923     4902  Customer               1984          Male   \n",
       "2            -122.404904     5905  Customer               1972          Male   \n",
       "\n",
       "  bike_share_for_all_trip  \n",
       "0                      No  \n",
       "2                      No  "
      ]
     },
     "execution_count": 6,
     "metadata": {},
     "output_type": "execute_result"
    }
   ],
   "source": [
    "ford_gobike.head(2)"
   ]
  },
  {
   "cell_type": "code",
   "execution_count": 7,
   "id": "a5218ceb",
   "metadata": {},
   "outputs": [],
   "source": [
    "ford_gobike['year'] = pd.DatetimeIndex(ford_gobike['start_time']).year #extract year from start\n",
    "#ford_gobike['end_year'] = pd.DatetimeIndex(ford_gobike['end_time']).year\n",
    "\n",
    "ford_gobike['start_month'] = pd.DatetimeIndex(ford_gobike['start_time']).month_name() #extract start month from start time\n",
    "ford_gobike['end_month'] = pd.DatetimeIndex(ford_gobike['end_time']).month_name() #extract end month from end time\n",
    "\n",
    "ford_gobike['start_day'] = pd.DatetimeIndex(ford_gobike['start_time']).day_name() #extract start day from start time\n",
    "ford_gobike['end_day'] = pd.DatetimeIndex(ford_gobike['end_time']).day_name() ##extract end day from end time"
   ]
  },
  {
   "cell_type": "code",
   "execution_count": null,
   "id": "72547313",
   "metadata": {},
   "outputs": [],
   "source": []
  },
  {
   "cell_type": "code",
   "execution_count": 8,
   "id": "fa1aca0e",
   "metadata": {},
   "outputs": [
    {
     "data": {
      "text/html": [
       "<div>\n",
       "<style scoped>\n",
       "    .dataframe tbody tr th:only-of-type {\n",
       "        vertical-align: middle;\n",
       "    }\n",
       "\n",
       "    .dataframe tbody tr th {\n",
       "        vertical-align: top;\n",
       "    }\n",
       "\n",
       "    .dataframe thead th {\n",
       "        text-align: right;\n",
       "    }\n",
       "</style>\n",
       "<table border=\"1\" class=\"dataframe\">\n",
       "  <thead>\n",
       "    <tr style=\"text-align: right;\">\n",
       "      <th></th>\n",
       "      <th>duration_sec</th>\n",
       "      <th>start_time</th>\n",
       "      <th>end_time</th>\n",
       "      <th>start_station_id</th>\n",
       "      <th>start_station_name</th>\n",
       "      <th>start_station_latitude</th>\n",
       "      <th>start_station_longitude</th>\n",
       "      <th>end_station_id</th>\n",
       "      <th>end_station_name</th>\n",
       "      <th>end_station_latitude</th>\n",
       "      <th>...</th>\n",
       "      <th>user_type</th>\n",
       "      <th>member_birth_year</th>\n",
       "      <th>member_gender</th>\n",
       "      <th>bike_share_for_all_trip</th>\n",
       "      <th>year</th>\n",
       "      <th>start_month</th>\n",
       "      <th>end_month</th>\n",
       "      <th>start_day</th>\n",
       "      <th>end_day</th>\n",
       "      <th>age</th>\n",
       "    </tr>\n",
       "  </thead>\n",
       "  <tbody>\n",
       "    <tr>\n",
       "      <th>0</th>\n",
       "      <td>52185</td>\n",
       "      <td>2019-02-28 17:32:10.1450</td>\n",
       "      <td>2019-03-01 08:01:55.9750</td>\n",
       "      <td>21.0</td>\n",
       "      <td>Montgomery St BART Station (Market St at 2nd St)</td>\n",
       "      <td>37.789625</td>\n",
       "      <td>-122.400811</td>\n",
       "      <td>13.0</td>\n",
       "      <td>Commercial St at Montgomery St</td>\n",
       "      <td>37.794231</td>\n",
       "      <td>...</td>\n",
       "      <td>Customer</td>\n",
       "      <td>1984</td>\n",
       "      <td>Male</td>\n",
       "      <td>No</td>\n",
       "      <td>2019</td>\n",
       "      <td>February</td>\n",
       "      <td>March</td>\n",
       "      <td>Thursday</td>\n",
       "      <td>Friday</td>\n",
       "      <td>35</td>\n",
       "    </tr>\n",
       "    <tr>\n",
       "      <th>2</th>\n",
       "      <td>61854</td>\n",
       "      <td>2019-02-28 12:13:13.2180</td>\n",
       "      <td>2019-03-01 05:24:08.1460</td>\n",
       "      <td>86.0</td>\n",
       "      <td>Market St at Dolores St</td>\n",
       "      <td>37.769305</td>\n",
       "      <td>-122.426826</td>\n",
       "      <td>3.0</td>\n",
       "      <td>Powell St BART Station (Market St at 4th St)</td>\n",
       "      <td>37.786375</td>\n",
       "      <td>...</td>\n",
       "      <td>Customer</td>\n",
       "      <td>1972</td>\n",
       "      <td>Male</td>\n",
       "      <td>No</td>\n",
       "      <td>2019</td>\n",
       "      <td>February</td>\n",
       "      <td>March</td>\n",
       "      <td>Thursday</td>\n",
       "      <td>Friday</td>\n",
       "      <td>47</td>\n",
       "    </tr>\n",
       "  </tbody>\n",
       "</table>\n",
       "<p>2 rows × 22 columns</p>\n",
       "</div>"
      ],
      "text/plain": [
       "   duration_sec                start_time                  end_time  \\\n",
       "0         52185  2019-02-28 17:32:10.1450  2019-03-01 08:01:55.9750   \n",
       "2         61854  2019-02-28 12:13:13.2180  2019-03-01 05:24:08.1460   \n",
       "\n",
       "   start_station_id                                start_station_name  \\\n",
       "0              21.0  Montgomery St BART Station (Market St at 2nd St)   \n",
       "2              86.0                           Market St at Dolores St   \n",
       "\n",
       "   start_station_latitude  start_station_longitude  end_station_id  \\\n",
       "0               37.789625              -122.400811            13.0   \n",
       "2               37.769305              -122.426826             3.0   \n",
       "\n",
       "                               end_station_name  end_station_latitude  ...  \\\n",
       "0                Commercial St at Montgomery St             37.794231  ...   \n",
       "2  Powell St BART Station (Market St at 4th St)             37.786375  ...   \n",
       "\n",
       "   user_type  member_birth_year member_gender  bike_share_for_all_trip  year  \\\n",
       "0   Customer               1984          Male                       No  2019   \n",
       "2   Customer               1972          Male                       No  2019   \n",
       "\n",
       "  start_month  end_month start_day end_day age  \n",
       "0    February      March  Thursday  Friday  35  \n",
       "2    February      March  Thursday  Friday  47  \n",
       "\n",
       "[2 rows x 22 columns]"
      ]
     },
     "execution_count": 8,
     "metadata": {},
     "output_type": "execute_result"
    }
   ],
   "source": [
    "#extract age from member birth year and start time\n",
    "ford_gobike['age'] = ford_gobike.year - ford_gobike.member_birth_year \n",
    "\n",
    "ford_gobike.head(2)"
   ]
  },
  {
   "cell_type": "code",
   "execution_count": null,
   "id": "2d3374a4",
   "metadata": {},
   "outputs": [],
   "source": []
  },
  {
   "cell_type": "code",
   "execution_count": 168,
   "id": "d7311d22",
   "metadata": {},
   "outputs": [
    {
     "data": {
      "text/plain": [
       "array([ 35,  47,  30,  45,  60,  36,  31,  27,  23,  26,  29,  38,  44,\n",
       "        41,  28,  22,  33,  19,  37,  24,  39,  46,  34,  48,  40,  52,\n",
       "        21,  25,  42,  20,  32,  50,  56,  43,  55,  54,  58,  51,  53,\n",
       "        57,  65,  61,  59,  49,  63,  62,  74, 119,  67,  71,  68,  78,\n",
       "        69,  70,  66,  64,  73,  72,  88,  76,  77,  99,  86,  18, 141,\n",
       "       118,  75,  91,  85,  80,  89, 117, 109,  81,  92], dtype=int64)"
      ]
     },
     "execution_count": 168,
     "metadata": {},
     "output_type": "execute_result"
    }
   ],
   "source": [
    "ford_gobike.age.unique() #"
   ]
  },
  {
   "cell_type": "code",
   "execution_count": 9,
   "id": "8a6fb068",
   "metadata": {},
   "outputs": [],
   "source": [
    "#convert duration from seconds to minutes and thereafter, convert the datatype to float\n",
    "ford_gobike['duration_sec'] = ford_gobike.duration_sec.apply(lambda x: '{:.2f}'.format(x/60))\n",
    "ford_gobike.rename(columns = {'duration_sec' : 'time_interval_min'}, inplace = True)\n",
    "ford_gobike['time_interval_min'] = ford_gobike.time_interval_min.astype(float)"
   ]
  },
  {
   "cell_type": "code",
   "execution_count": 10,
   "id": "b9a12707",
   "metadata": {},
   "outputs": [],
   "source": [
    "#define a function to calculate the distance between two the stations\n",
    "def distance(df):\n",
    "    start_station = (df.start_station_latitude, df.start_station_longitude)\n",
    "    end_station = (df.end_station_latitude, df.end_station_longitude)\n",
    "    distance = great_circle(start_station, end_station).meters\n",
    "    return float('{:.2f}'.format(distance))"
   ]
  },
  {
   "cell_type": "code",
   "execution_count": 11,
   "id": "659b19e7",
   "metadata": {},
   "outputs": [],
   "source": [
    "#apply distance function to start and end stations location\n",
    "ford_gobike['distance'] = ford_gobike.apply(distance, axis = 'columns')"
   ]
  },
  {
   "cell_type": "code",
   "execution_count": 11,
   "id": "e3cc1c9d",
   "metadata": {},
   "outputs": [
    {
     "data": {
      "text/html": [
       "<div>\n",
       "<style scoped>\n",
       "    .dataframe tbody tr th:only-of-type {\n",
       "        vertical-align: middle;\n",
       "    }\n",
       "\n",
       "    .dataframe tbody tr th {\n",
       "        vertical-align: top;\n",
       "    }\n",
       "\n",
       "    .dataframe thead th {\n",
       "        text-align: right;\n",
       "    }\n",
       "</style>\n",
       "<table border=\"1\" class=\"dataframe\">\n",
       "  <thead>\n",
       "    <tr style=\"text-align: right;\">\n",
       "      <th></th>\n",
       "      <th>time_interval_min</th>\n",
       "      <th>start_time</th>\n",
       "      <th>end_time</th>\n",
       "      <th>start_station_id</th>\n",
       "      <th>start_station_name</th>\n",
       "      <th>start_station_latitude</th>\n",
       "      <th>start_station_longitude</th>\n",
       "      <th>end_station_id</th>\n",
       "      <th>end_station_name</th>\n",
       "      <th>end_station_latitude</th>\n",
       "      <th>...</th>\n",
       "      <th>member_birth_year</th>\n",
       "      <th>member_gender</th>\n",
       "      <th>bike_share_for_all_trip</th>\n",
       "      <th>year</th>\n",
       "      <th>start_month</th>\n",
       "      <th>end_month</th>\n",
       "      <th>start_day</th>\n",
       "      <th>end_day</th>\n",
       "      <th>age</th>\n",
       "      <th>distance</th>\n",
       "    </tr>\n",
       "  </thead>\n",
       "  <tbody>\n",
       "    <tr>\n",
       "      <th>0</th>\n",
       "      <td>869.75</td>\n",
       "      <td>2019-02-28 17:32:10.1450</td>\n",
       "      <td>2019-03-01 08:01:55.9750</td>\n",
       "      <td>21.0</td>\n",
       "      <td>Montgomery St BART Station (Market St at 2nd St)</td>\n",
       "      <td>37.789625</td>\n",
       "      <td>-122.400811</td>\n",
       "      <td>13.0</td>\n",
       "      <td>Commercial St at Montgomery St</td>\n",
       "      <td>37.794231</td>\n",
       "      <td>...</td>\n",
       "      <td>1984</td>\n",
       "      <td>Male</td>\n",
       "      <td>No</td>\n",
       "      <td>2019</td>\n",
       "      <td>February</td>\n",
       "      <td>March</td>\n",
       "      <td>Thursday</td>\n",
       "      <td>Friday</td>\n",
       "      <td>35</td>\n",
       "      <td>544.71</td>\n",
       "    </tr>\n",
       "    <tr>\n",
       "      <th>2</th>\n",
       "      <td>1030.90</td>\n",
       "      <td>2019-02-28 12:13:13.2180</td>\n",
       "      <td>2019-03-01 05:24:08.1460</td>\n",
       "      <td>86.0</td>\n",
       "      <td>Market St at Dolores St</td>\n",
       "      <td>37.769305</td>\n",
       "      <td>-122.426826</td>\n",
       "      <td>3.0</td>\n",
       "      <td>Powell St BART Station (Market St at 4th St)</td>\n",
       "      <td>37.786375</td>\n",
       "      <td>...</td>\n",
       "      <td>1972</td>\n",
       "      <td>Male</td>\n",
       "      <td>No</td>\n",
       "      <td>2019</td>\n",
       "      <td>February</td>\n",
       "      <td>March</td>\n",
       "      <td>Thursday</td>\n",
       "      <td>Friday</td>\n",
       "      <td>47</td>\n",
       "      <td>2704.55</td>\n",
       "    </tr>\n",
       "    <tr>\n",
       "      <th>3</th>\n",
       "      <td>608.17</td>\n",
       "      <td>2019-02-28 17:54:26.0100</td>\n",
       "      <td>2019-03-01 04:02:36.8420</td>\n",
       "      <td>375.0</td>\n",
       "      <td>Grove St at Masonic Ave</td>\n",
       "      <td>37.774836</td>\n",
       "      <td>-122.446546</td>\n",
       "      <td>70.0</td>\n",
       "      <td>Central Ave at Fell St</td>\n",
       "      <td>37.773311</td>\n",
       "      <td>...</td>\n",
       "      <td>1989</td>\n",
       "      <td>Other</td>\n",
       "      <td>No</td>\n",
       "      <td>2019</td>\n",
       "      <td>February</td>\n",
       "      <td>March</td>\n",
       "      <td>Thursday</td>\n",
       "      <td>Friday</td>\n",
       "      <td>30</td>\n",
       "      <td>260.74</td>\n",
       "    </tr>\n",
       "    <tr>\n",
       "      <th>4</th>\n",
       "      <td>26.42</td>\n",
       "      <td>2019-02-28 23:54:18.5490</td>\n",
       "      <td>2019-03-01 00:20:44.0740</td>\n",
       "      <td>7.0</td>\n",
       "      <td>Frank H Ogawa Plaza</td>\n",
       "      <td>37.804562</td>\n",
       "      <td>-122.271738</td>\n",
       "      <td>222.0</td>\n",
       "      <td>10th Ave at E 15th St</td>\n",
       "      <td>37.792714</td>\n",
       "      <td>...</td>\n",
       "      <td>1974</td>\n",
       "      <td>Male</td>\n",
       "      <td>Yes</td>\n",
       "      <td>2019</td>\n",
       "      <td>February</td>\n",
       "      <td>March</td>\n",
       "      <td>Thursday</td>\n",
       "      <td>Friday</td>\n",
       "      <td>45</td>\n",
       "      <td>2409.30</td>\n",
       "    </tr>\n",
       "    <tr>\n",
       "      <th>5</th>\n",
       "      <td>29.88</td>\n",
       "      <td>2019-02-28 23:49:58.6320</td>\n",
       "      <td>2019-03-01 00:19:51.7600</td>\n",
       "      <td>93.0</td>\n",
       "      <td>4th St at Mission Bay Blvd S</td>\n",
       "      <td>37.770407</td>\n",
       "      <td>-122.391198</td>\n",
       "      <td>323.0</td>\n",
       "      <td>Broadway at Kearny</td>\n",
       "      <td>37.798014</td>\n",
       "      <td>...</td>\n",
       "      <td>1959</td>\n",
       "      <td>Male</td>\n",
       "      <td>No</td>\n",
       "      <td>2019</td>\n",
       "      <td>February</td>\n",
       "      <td>March</td>\n",
       "      <td>Thursday</td>\n",
       "      <td>Friday</td>\n",
       "      <td>60</td>\n",
       "      <td>3332.21</td>\n",
       "    </tr>\n",
       "  </tbody>\n",
       "</table>\n",
       "<p>5 rows × 23 columns</p>\n",
       "</div>"
      ],
      "text/plain": [
       "   time_interval_min                start_time                  end_time  \\\n",
       "0             869.75  2019-02-28 17:32:10.1450  2019-03-01 08:01:55.9750   \n",
       "2            1030.90  2019-02-28 12:13:13.2180  2019-03-01 05:24:08.1460   \n",
       "3             608.17  2019-02-28 17:54:26.0100  2019-03-01 04:02:36.8420   \n",
       "4              26.42  2019-02-28 23:54:18.5490  2019-03-01 00:20:44.0740   \n",
       "5              29.88  2019-02-28 23:49:58.6320  2019-03-01 00:19:51.7600   \n",
       "\n",
       "   start_station_id                                start_station_name  \\\n",
       "0              21.0  Montgomery St BART Station (Market St at 2nd St)   \n",
       "2              86.0                           Market St at Dolores St   \n",
       "3             375.0                           Grove St at Masonic Ave   \n",
       "4               7.0                               Frank H Ogawa Plaza   \n",
       "5              93.0                      4th St at Mission Bay Blvd S   \n",
       "\n",
       "   start_station_latitude  start_station_longitude  end_station_id  \\\n",
       "0               37.789625              -122.400811            13.0   \n",
       "2               37.769305              -122.426826             3.0   \n",
       "3               37.774836              -122.446546            70.0   \n",
       "4               37.804562              -122.271738           222.0   \n",
       "5               37.770407              -122.391198           323.0   \n",
       "\n",
       "                               end_station_name  end_station_latitude  ...  \\\n",
       "0                Commercial St at Montgomery St             37.794231  ...   \n",
       "2  Powell St BART Station (Market St at 4th St)             37.786375  ...   \n",
       "3                        Central Ave at Fell St             37.773311  ...   \n",
       "4                         10th Ave at E 15th St             37.792714  ...   \n",
       "5                            Broadway at Kearny             37.798014  ...   \n",
       "\n",
       "   member_birth_year  member_gender bike_share_for_all_trip  year start_month  \\\n",
       "0               1984           Male                      No  2019    February   \n",
       "2               1972           Male                      No  2019    February   \n",
       "3               1989          Other                      No  2019    February   \n",
       "4               1974           Male                     Yes  2019    February   \n",
       "5               1959           Male                      No  2019    February   \n",
       "\n",
       "  end_month  start_day end_day age distance  \n",
       "0     March   Thursday  Friday  35   544.71  \n",
       "2     March   Thursday  Friday  47  2704.55  \n",
       "3     March   Thursday  Friday  30   260.74  \n",
       "4     March   Thursday  Friday  45  2409.30  \n",
       "5     March   Thursday  Friday  60  3332.21  \n",
       "\n",
       "[5 rows x 23 columns]"
      ]
     },
     "execution_count": 11,
     "metadata": {},
     "output_type": "execute_result"
    }
   ],
   "source": [
    "ford_gobike.head(5)"
   ]
  },
  {
   "cell_type": "code",
   "execution_count": 166,
   "id": "02b04928",
   "metadata": {},
   "outputs": [],
   "source": [
    "#ford_gobike.day_interval.replace({'1 days' : 1,\n",
    " #                                '0 days' : 0}, inplace = True)\n",
    "#ford_gobike.head(5)"
   ]
  },
  {
   "cell_type": "code",
   "execution_count": 15,
   "id": "911dfbb9",
   "metadata": {},
   "outputs": [],
   "source": [
    "#variation of distance\n",
    "#ford_gobike.distance.value_counts()"
   ]
  },
  {
   "cell_type": "code",
   "execution_count": 12,
   "id": "247dabbf",
   "metadata": {},
   "outputs": [
    {
     "data": {
      "text/html": [
       "<div>\n",
       "<style scoped>\n",
       "    .dataframe tbody tr th:only-of-type {\n",
       "        vertical-align: middle;\n",
       "    }\n",
       "\n",
       "    .dataframe tbody tr th {\n",
       "        vertical-align: top;\n",
       "    }\n",
       "\n",
       "    .dataframe thead th {\n",
       "        text-align: right;\n",
       "    }\n",
       "</style>\n",
       "<table border=\"1\" class=\"dataframe\">\n",
       "  <thead>\n",
       "    <tr style=\"text-align: right;\">\n",
       "      <th></th>\n",
       "      <th>bike_id</th>\n",
       "      <th>user_type</th>\n",
       "      <th>member_gender</th>\n",
       "      <th>age</th>\n",
       "      <th>start_station_name</th>\n",
       "      <th>end_station_name</th>\n",
       "      <th>distance</th>\n",
       "      <th>start_month</th>\n",
       "      <th>end_month</th>\n",
       "      <th>start_day</th>\n",
       "      <th>end_day</th>\n",
       "      <th>time_interval_min</th>\n",
       "      <th>bike_share_for_all_trip</th>\n",
       "    </tr>\n",
       "  </thead>\n",
       "  <tbody>\n",
       "    <tr>\n",
       "      <th>0</th>\n",
       "      <td>4902</td>\n",
       "      <td>Customer</td>\n",
       "      <td>Male</td>\n",
       "      <td>35</td>\n",
       "      <td>Montgomery St BART Station (Market St at 2nd St)</td>\n",
       "      <td>Commercial St at Montgomery St</td>\n",
       "      <td>544.71</td>\n",
       "      <td>February</td>\n",
       "      <td>March</td>\n",
       "      <td>Thursday</td>\n",
       "      <td>Friday</td>\n",
       "      <td>869.75</td>\n",
       "      <td>No</td>\n",
       "    </tr>\n",
       "    <tr>\n",
       "      <th>2</th>\n",
       "      <td>5905</td>\n",
       "      <td>Customer</td>\n",
       "      <td>Male</td>\n",
       "      <td>47</td>\n",
       "      <td>Market St at Dolores St</td>\n",
       "      <td>Powell St BART Station (Market St at 4th St)</td>\n",
       "      <td>2704.55</td>\n",
       "      <td>February</td>\n",
       "      <td>March</td>\n",
       "      <td>Thursday</td>\n",
       "      <td>Friday</td>\n",
       "      <td>1030.90</td>\n",
       "      <td>No</td>\n",
       "    </tr>\n",
       "    <tr>\n",
       "      <th>3</th>\n",
       "      <td>6638</td>\n",
       "      <td>Subscriber</td>\n",
       "      <td>Other</td>\n",
       "      <td>30</td>\n",
       "      <td>Grove St at Masonic Ave</td>\n",
       "      <td>Central Ave at Fell St</td>\n",
       "      <td>260.74</td>\n",
       "      <td>February</td>\n",
       "      <td>March</td>\n",
       "      <td>Thursday</td>\n",
       "      <td>Friday</td>\n",
       "      <td>608.17</td>\n",
       "      <td>No</td>\n",
       "    </tr>\n",
       "    <tr>\n",
       "      <th>4</th>\n",
       "      <td>4898</td>\n",
       "      <td>Subscriber</td>\n",
       "      <td>Male</td>\n",
       "      <td>45</td>\n",
       "      <td>Frank H Ogawa Plaza</td>\n",
       "      <td>10th Ave at E 15th St</td>\n",
       "      <td>2409.30</td>\n",
       "      <td>February</td>\n",
       "      <td>March</td>\n",
       "      <td>Thursday</td>\n",
       "      <td>Friday</td>\n",
       "      <td>26.42</td>\n",
       "      <td>Yes</td>\n",
       "    </tr>\n",
       "    <tr>\n",
       "      <th>5</th>\n",
       "      <td>5200</td>\n",
       "      <td>Subscriber</td>\n",
       "      <td>Male</td>\n",
       "      <td>60</td>\n",
       "      <td>4th St at Mission Bay Blvd S</td>\n",
       "      <td>Broadway at Kearny</td>\n",
       "      <td>3332.21</td>\n",
       "      <td>February</td>\n",
       "      <td>March</td>\n",
       "      <td>Thursday</td>\n",
       "      <td>Friday</td>\n",
       "      <td>29.88</td>\n",
       "      <td>No</td>\n",
       "    </tr>\n",
       "  </tbody>\n",
       "</table>\n",
       "</div>"
      ],
      "text/plain": [
       "   bike_id   user_type member_gender  age  \\\n",
       "0     4902    Customer          Male   35   \n",
       "2     5905    Customer          Male   47   \n",
       "3     6638  Subscriber         Other   30   \n",
       "4     4898  Subscriber          Male   45   \n",
       "5     5200  Subscriber          Male   60   \n",
       "\n",
       "                                 start_station_name  \\\n",
       "0  Montgomery St BART Station (Market St at 2nd St)   \n",
       "2                           Market St at Dolores St   \n",
       "3                           Grove St at Masonic Ave   \n",
       "4                               Frank H Ogawa Plaza   \n",
       "5                      4th St at Mission Bay Blvd S   \n",
       "\n",
       "                               end_station_name  distance start_month  \\\n",
       "0                Commercial St at Montgomery St    544.71    February   \n",
       "2  Powell St BART Station (Market St at 4th St)   2704.55    February   \n",
       "3                        Central Ave at Fell St    260.74    February   \n",
       "4                         10th Ave at E 15th St   2409.30    February   \n",
       "5                            Broadway at Kearny   3332.21    February   \n",
       "\n",
       "  end_month start_day end_day  time_interval_min bike_share_for_all_trip  \n",
       "0     March  Thursday  Friday             869.75                      No  \n",
       "2     March  Thursday  Friday            1030.90                      No  \n",
       "3     March  Thursday  Friday             608.17                      No  \n",
       "4     March  Thursday  Friday              26.42                     Yes  \n",
       "5     March  Thursday  Friday              29.88                      No  "
      ]
     },
     "execution_count": 12,
     "metadata": {},
     "output_type": "execute_result"
    }
   ],
   "source": [
    "#list of features of interest to support the investigations\n",
    "\n",
    "ford_gobike_ = ford_gobike[['bike_id', 'user_type', 'member_gender',  'age','start_station_name', 'end_station_name', 'distance',\n",
    "                            'start_month', 'end_month', 'start_day', 'end_day', 'time_interval_min', 'bike_share_for_all_trip']]\n",
    "ford_gobike_.head()"
   ]
  },
  {
   "cell_type": "code",
   "execution_count": 12,
   "id": "2794cefa",
   "metadata": {},
   "outputs": [
    {
     "data": {
      "text/plain": [
       "(174952, 13)"
      ]
     },
     "execution_count": 12,
     "metadata": {},
     "output_type": "execute_result"
    }
   ],
   "source": [
    "#Structure of dataset\n",
    "ford_gobike_.shape"
   ]
  },
  {
   "cell_type": "code",
   "execution_count": 19,
   "id": "4789bf19",
   "metadata": {},
   "outputs": [
    {
     "name": "stdout",
     "output_type": "stream",
     "text": [
      "<class 'pandas.core.frame.DataFrame'>\n",
      "Int64Index: 174952 entries, 0 to 183411\n",
      "Data columns (total 13 columns):\n",
      " #   Column                   Non-Null Count   Dtype  \n",
      "---  ------                   --------------   -----  \n",
      " 0   bike_id                  174952 non-null  int64  \n",
      " 1   user_type                174952 non-null  object \n",
      " 2   member_gender            174952 non-null  object \n",
      " 3   age                      174952 non-null  int64  \n",
      " 4   start_station_name       174952 non-null  object \n",
      " 5   end_station_name         174952 non-null  object \n",
      " 6   distance                 174952 non-null  float64\n",
      " 7   start_month              174952 non-null  object \n",
      " 8   end_month                174952 non-null  object \n",
      " 9   start_day                174952 non-null  object \n",
      " 10  end_day                  174952 non-null  object \n",
      " 11  time_interval_min        174952 non-null  float64\n",
      " 12  bike_share_for_all_trip  174952 non-null  object \n",
      "dtypes: float64(2), int64(2), object(9)\n",
      "memory usage: 18.7+ MB\n"
     ]
    }
   ],
   "source": [
    "ford_gobike_.info()"
   ]
  },
  {
   "cell_type": "markdown",
   "id": "b939b3c5",
   "metadata": {},
   "source": [
    "# What is the structure of your dataset?"
   ]
  },
  {
   "cell_type": "markdown",
   "id": "7bdaf542",
   "metadata": {},
   "source": [
    "There are 174953 users in the dataset with 13 columns.\n",
    "Most of the data are categorical in nature."
   ]
  },
  {
   "cell_type": "markdown",
   "id": "2c675b8e",
   "metadata": {},
   "source": [
    "# What is the main feature of interest in the dataset"
   ]
  },
  {
   "cell_type": "markdown",
   "id": "2d04dd24",
   "metadata": {},
   "source": [
    "I want to understand the variation of the numbers of users of the system across distance, age, time interval and days of the week."
   ]
  },
  {
   "cell_type": "markdown",
   "id": "0f126a7d",
   "metadata": {},
   "source": [
    "# The features of intersest that would support the investigation"
   ]
  },
  {
   "cell_type": "markdown",
   "id": "7dd17e99",
   "metadata": {},
   "source": [
    "I would running analysis of the number of users. \n",
    "So, user_type, member_gender, distance, age, time interval and days of the week would be of interest."
   ]
  },
  {
   "cell_type": "markdown",
   "id": "49d30591",
   "metadata": {},
   "source": [
    "# Exploratory Analysis"
   ]
  },
  {
   "cell_type": "code",
   "execution_count": 24,
   "id": "0eaecf07",
   "metadata": {},
   "outputs": [],
   "source": [
    "#def a function to visualize categorical univariate data\n",
    "def univariate_cat(var, color):\n",
    "    base_color = sb.color_palette()[color]\n",
    "    return sb.countplot(data = ford_gobike_, x = var, color = base_color)"
   ]
  },
  {
   "cell_type": "markdown",
   "id": "b94309be",
   "metadata": {},
   "source": [
    "# Who are the major users of the system; Bike sharing System"
   ]
  },
  {
   "cell_type": "code",
   "execution_count": 26,
   "id": "0794a3bd",
   "metadata": {},
   "outputs": [
    {
     "data": {
      "image/png": "[encoded data removed]",
      "text/plain": [
       "<Figure size 432x288 with 1 Axes>"
      ]
     },
     "metadata": {
      "needs_background": "light"
     },
     "output_type": "display_data"
    }
   ],
   "source": [
    "univariate_cat('user_type', 0)\n",
    "plt.title('Number of Each User in the Dataset')\n",
    "plt.ylabel('Number of Users');"
   ]
  },
  {
   "cell_type": "code",
   "execution_count": 30,
   "id": "119e45c2",
   "metadata": {},
   "outputs": [
    {
     "data": {
      "text/plain": [
       "Subscriber    90.5%\n",
       "Customer       9.5%\n",
       "Name: user_type, dtype: object"
      ]
     },
     "execution_count": 30,
     "metadata": {},
     "output_type": "execute_result"
    }
   ],
   "source": [
    "ford_gobike_.user_type.value_counts(normalize = True).mul(100).round(1).astype(str)+'%'"
   ]
  },
  {
   "cell_type": "markdown",
   "id": "47c93e15",
   "metadata": {},
   "source": [
    "The above displays show that about 90% of the users is subscribers.\n",
    "So, I want to check how this changes with respect to their genders."
   ]
  },
  {
   "cell_type": "markdown",
   "id": "2f8e82d8",
   "metadata": {},
   "source": [
    "# Which gender is the highest user of the system"
   ]
  },
  {
   "cell_type": "code",
   "execution_count": 31,
   "id": "fbff71fd",
   "metadata": {},
   "outputs": [
    {
     "data": {
      "image/png": "[encoded data removed]",
      "text/plain": [
       "<Figure size 432x288 with 1 Axes>"
      ]
     },
     "metadata": {
      "needs_background": "light"
     },
     "output_type": "display_data"
    }
   ],
   "source": [
    "sb.countplot(data = ford_gobike_, x = 'user_type', hue = 'member_gender')\n",
    "plt.title('Number of users with respect to their gender')\n",
    "plt.ylabel('Number of Users');"
   ]
  },
  {
   "cell_type": "code",
   "execution_count": 34,
   "id": "b29e2679",
   "metadata": {},
   "outputs": [
    {
     "data": {
      "text/plain": [
       "user_type   member_gender\n",
       "Customer    Male             69.4%\n",
       "            Female           27.9%\n",
       "            Other             2.7%\n",
       "Subscriber  Male             75.1%\n",
       "            Female           22.8%\n",
       "            Other             2.0%\n",
       "Name: member_gender, dtype: object"
      ]
     },
     "execution_count": 34,
     "metadata": {},
     "output_type": "execute_result"
    }
   ],
   "source": [
    "ford_gobike_.groupby('user_type').member_gender.value_counts(normalize = True).mul(100).round(1).astype(str)+'%'"
   ]
  },
  {
   "cell_type": "markdown",
   "id": "c025c702",
   "metadata": {},
   "source": [
    "wow....\n",
    "The major users of this system is male subscribers. I want explore week days to know if there would be changes."
   ]
  },
  {
   "cell_type": "code",
   "execution_count": 13,
   "id": "c810d1c4",
   "metadata": {},
   "outputs": [],
   "source": [
    "#def a function to visualize univariate data for days of the week\n",
    "def univariate_day(var, color):\n",
    "    base_color = sb.color_palette()[color]\n",
    "    return sb.countplot(data = ford_gobike_, x = var, color = base_color, \n",
    "                       order = ['Monday', 'Tuesday', 'Wednesday', 'Thursday', 'Friday', 'Saturday', 'Sunday'])"
   ]
  },
  {
   "cell_type": "markdown",
   "id": "89e01da4",
   "metadata": {},
   "source": [
    "# Start day and End day Exploration\n",
    "\n",
    "I wish to check if there is any difference in the number of trips per week for start day and end day."
   ]
  },
  {
   "cell_type": "markdown",
   "id": "74b1d4ca",
   "metadata": {},
   "source": [
    "# what is the number of trips in each start day of the week"
   ]
  },
  {
   "cell_type": "code",
   "execution_count": 15,
   "id": "0104fa0a",
   "metadata": {},
   "outputs": [
    {
     "data": {
      "image/png": "[encoded data removed]",
      "text/plain": [
       "<Figure size 432x288 with 1 Axes>"
      ]
     },
     "metadata": {
      "needs_background": "light"
     },
     "output_type": "display_data"
    }
   ],
   "source": [
    "univariate_day('start_day', 2)\n",
    "plt.title('Number of Trips in Each Start day of the Week')\n",
    "plt.ylabel('Number of Trips')\n",
    "plt.xticks(rotation = 305);"
   ]
  },
  {
   "cell_type": "markdown",
   "id": "abce4a09",
   "metadata": {},
   "source": [
    "The display shows that Tuesday and Thursday have the highest number of trips in a week.\n",
    "Now, I want to check if end days of the week have the same output."
   ]
  },
  {
   "cell_type": "markdown",
   "id": "f50120ef",
   "metadata": {},
   "source": [
    "# what is the number of trips in each end day of the week"
   ]
  },
  {
   "cell_type": "code",
   "execution_count": 16,
   "id": "18918433",
   "metadata": {},
   "outputs": [
    {
     "data": {
      "image/png": "[encoded data removed]",
      "text/plain": [
       "<Figure size 432x288 with 1 Axes>"
      ]
     },
     "metadata": {
      "needs_background": "light"
     },
     "output_type": "display_data"
    }
   ],
   "source": [
    "univariate_day('end_day', 3)\n",
    "plt.title('Number of Trips in Each End day of the Week')\n",
    "plt.ylabel('Number of Trips')\n",
    "plt.xticks(rotation = 305);"
   ]
  },
  {
   "cell_type": "markdown",
   "id": "56617a8f",
   "metadata": {},
   "source": [
    "The output of start day and end day of the week show the same output. \n",
    "Therefore I want to select one out of start day and end day since the outputs are the same. So, I to want rename start day to day and drop end day column from the dataset."
   ]
  },
  {
   "cell_type": "code",
   "execution_count": null,
   "id": "99ecec3f",
   "metadata": {},
   "outputs": [],
   "source": [
    "#rename start_day to day.\n",
    "ford_gobike_.rename(columns = {'start_day': 'day'}, inplace = True)"
   ]
  },
  {
   "cell_type": "markdown",
   "id": "3c62f64c",
   "metadata": {},
   "source": [
    "# Which day of the week has the highest number of trips"
   ]
  },
  {
   "cell_type": "code",
   "execution_count": 38,
   "id": "5ff09136",
   "metadata": {},
   "outputs": [
    {
     "data": {
      "image/png": "[encoded data removed]",
      "text/plain": [
       "<Figure size 432x288 with 1 Axes>"
      ]
     },
     "metadata": {
      "needs_background": "light"
     },
     "output_type": "display_data"
    }
   ],
   "source": [
    "univariate_day('day', 4)\n",
    "plt.title('Number of Trips in each day of the week')\n",
    "plt.ylabel('Number of Trips')\n",
    "plt.xticks(rotation = 305);"
   ]
  },
  {
   "cell_type": "markdown",
   "id": "55ff2b51",
   "metadata": {},
   "source": [
    "The display shows that Tuesday and Thursday have the highest number of trips in a week.\n",
    "Now, I want to check how these trips change among users; subscribers and customers with respect to their genders."
   ]
  },
  {
   "cell_type": "markdown",
   "id": "e84ef429",
   "metadata": {},
   "source": [
    "# Which of the users are the major users of the system in each day of the week."
   ]
  },
  {
   "cell_type": "code",
   "execution_count": 46,
   "id": "f3189609",
   "metadata": {},
   "outputs": [
    {
     "data": {
      "image/png": "[encoded data removed]",
      "text/plain": [
       "<Figure size 1036.8x576 with 6 Axes>"
      ]
     },
     "metadata": {
      "needs_background": "light"
     },
     "output_type": "display_data"
    }
   ],
   "source": [
    "g = sb.FacetGrid(data = ford_gobike_, row = 'user_type', col = 'member_gender', height = 4, aspect = 1.2)\n",
    "g.map(sb.countplot, 'day', order = ['Monday', 'Tuesday', 'Wednesday', 'Thursday', 'Friday', 'Saturday', 'Sunday'])\n",
    "g.set_ylabels('Number of Users')\n",
    "g.set_xticklabels(rotation = 305);"
   ]
  },
  {
   "cell_type": "markdown",
   "id": "f7d270e2",
   "metadata": {},
   "source": [
    "For each day of the week, male subscribers are major users of the system.\n",
    "So, I want to explore the age range of the users of the system."
   ]
  },
  {
   "cell_type": "markdown",
   "id": "6616c2e6",
   "metadata": {},
   "source": [
    "# Which age range is the most users of the system."
   ]
  },
  {
   "cell_type": "markdown",
   "id": "322aa138",
   "metadata": {},
   "source": [
    "for easy of understanding of the output of histogram, I would like to define the range of the bins."
   ]
  },
  {
   "cell_type": "code",
   "execution_count": 70,
   "id": "6e63a5e2",
   "metadata": {},
   "outputs": [
    {
     "data": {
      "text/html": [
       "<div>\n",
       "<style scoped>\n",
       "    .dataframe tbody tr th:only-of-type {\n",
       "        vertical-align: middle;\n",
       "    }\n",
       "\n",
       "    .dataframe tbody tr th {\n",
       "        vertical-align: top;\n",
       "    }\n",
       "\n",
       "    .dataframe thead th {\n",
       "        text-align: right;\n",
       "    }\n",
       "</style>\n",
       "<table border=\"1\" class=\"dataframe\">\n",
       "  <thead>\n",
       "    <tr style=\"text-align: right;\">\n",
       "      <th></th>\n",
       "      <th>age</th>\n",
       "      <th>distance</th>\n",
       "      <th>time_interval_min</th>\n",
       "    </tr>\n",
       "  </thead>\n",
       "  <tbody>\n",
       "    <tr>\n",
       "      <th>count</th>\n",
       "      <td>174952.000000</td>\n",
       "      <td>174952.000000</td>\n",
       "      <td>174952.000000</td>\n",
       "    </tr>\n",
       "    <tr>\n",
       "      <th>mean</th>\n",
       "      <td>34.196865</td>\n",
       "      <td>1690.051472</td>\n",
       "      <td>11.733373</td>\n",
       "    </tr>\n",
       "    <tr>\n",
       "      <th>std</th>\n",
       "      <td>10.118731</td>\n",
       "      <td>1096.958259</td>\n",
       "      <td>27.370085</td>\n",
       "    </tr>\n",
       "    <tr>\n",
       "      <th>min</th>\n",
       "      <td>18.000000</td>\n",
       "      <td>0.000000</td>\n",
       "      <td>1.020000</td>\n",
       "    </tr>\n",
       "    <tr>\n",
       "      <th>25%</th>\n",
       "      <td>27.000000</td>\n",
       "      <td>910.447500</td>\n",
       "      <td>5.380000</td>\n",
       "    </tr>\n",
       "    <tr>\n",
       "      <th>50%</th>\n",
       "      <td>32.000000</td>\n",
       "      <td>1429.830000</td>\n",
       "      <td>8.500000</td>\n",
       "    </tr>\n",
       "    <tr>\n",
       "      <th>75%</th>\n",
       "      <td>39.000000</td>\n",
       "      <td>2224.010000</td>\n",
       "      <td>13.150000</td>\n",
       "    </tr>\n",
       "    <tr>\n",
       "      <th>max</th>\n",
       "      <td>141.000000</td>\n",
       "      <td>69469.340000</td>\n",
       "      <td>1409.130000</td>\n",
       "    </tr>\n",
       "  </tbody>\n",
       "</table>\n",
       "</div>"
      ],
      "text/plain": [
       "                 age       distance  time_interval_min\n",
       "count  174952.000000  174952.000000      174952.000000\n",
       "mean       34.196865    1690.051472          11.733373\n",
       "std        10.118731    1096.958259          27.370085\n",
       "min        18.000000       0.000000           1.020000\n",
       "25%        27.000000     910.447500           5.380000\n",
       "50%        32.000000    1429.830000           8.500000\n",
       "75%        39.000000    2224.010000          13.150000\n",
       "max       141.000000   69469.340000        1409.130000"
      ]
     },
     "execution_count": 70,
     "metadata": {},
     "output_type": "execute_result"
    }
   ],
   "source": [
    "ford_gobike_[['age', 'distance', 'time_interval_min']].describe() #want to get the min and max values of the continous variables"
   ]
  },
  {
   "cell_type": "code",
   "execution_count": 59,
   "id": "3ca11aa2",
   "metadata": {},
   "outputs": [
    {
     "data": {
      "image/png": "[encoded data removed]",
      "text/plain": [
       "<Figure size 432x288 with 1 Axes>"
      ]
     },
     "metadata": {
      "needs_background": "light"
     },
     "output_type": "display_data"
    }
   ],
   "source": [
    "bins = np.arange(18, 141, 5)\n",
    "sb.histplot(data = ford_gobike_, x = 'age', bins = bins)\n",
    "plt.title('Age Distribution Of the User of The System')\n",
    "plt.ylabel('Frequency of the Distribution');"
   ]
  },
  {
   "cell_type": "markdown",
   "id": "30fa656b",
   "metadata": {},
   "source": [
    "The age range of 25 - 40 are the highest users of the system.\n",
    "I want to check how this changes among subscribers and users' genders"
   ]
  },
  {
   "cell_type": "markdown",
   "id": "8b7ac5d1",
   "metadata": {},
   "source": [
    "# Which of the users has greater percentage in the age range  of 25 - 40years"
   ]
  },
  {
   "cell_type": "code",
   "execution_count": 63,
   "id": "47cf6765",
   "metadata": {},
   "outputs": [
    {
     "data": {
      "image/png": "[encoded data removed]",
      "text/plain": [
       "<Figure size 432x288 with 1 Axes>"
      ]
     },
     "metadata": {
      "needs_background": "light"
     },
     "output_type": "display_data"
    }
   ],
   "source": [
    "bins = np.arange(18, 141, 5)\n",
    "sb.histplot(data = ford_gobike_, x = 'age', hue = 'user_type', bins = bins)\n",
    "plt.title('Age Distribution Of the User of The System')\n",
    "plt.ylabel('Number of Users');"
   ]
  },
  {
   "cell_type": "markdown",
   "id": "d7f44cbe",
   "metadata": {},
   "source": [
    "Ofcourse, the result is expected due to greater number of subscribers in the dataset. But for further investigation, I want to check this by having separate chart for each users."
   ]
  },
  {
   "cell_type": "code",
   "execution_count": 67,
   "id": "0bb02b17",
   "metadata": {},
   "outputs": [
    {
     "data": {
      "image/png": "[encoded data removed]",
      "text/plain": [
       "<Figure size 432x216 with 2 Axes>"
      ]
     },
     "metadata": {
      "needs_background": "light"
     },
     "output_type": "display_data"
    }
   ],
   "source": [
    "base_color = sb.color_palette()[1]\n",
    "g = sb.FacetGrid(data = ford_gobike, col = 'user_type', sharey = False, aspect = 1)\n",
    "g.map(sb.histplot, 'age', bins = bins, color = base_color)\n",
    "g.set_ylabels('Number of Users');"
   ]
  },
  {
   "cell_type": "markdown",
   "id": "cf4fe15e",
   "metadata": {},
   "source": [
    "The age range still shows the same thing. Age range of 25 - 40years is the highest users of the system for both subscribers and customers. Let's take it further by putting their genders into consideration."
   ]
  },
  {
   "cell_type": "code",
   "execution_count": 69,
   "id": "ce9f38d1",
   "metadata": {},
   "outputs": [
    {
     "data": {
      "image/png": "[encoded data removed]",
      "text/plain": [
       "<Figure size 972x432 with 6 Axes>"
      ]
     },
     "metadata": {
      "needs_background": "light"
     },
     "output_type": "display_data"
    }
   ],
   "source": [
    "base_color = sb.color_palette()[2]\n",
    "g = sb.FacetGrid(data = ford_gobike, row = 'user_type', col = 'member_gender',sharey = False, aspect = 1.5)\n",
    "g.map(sb.histplot, 'age', bins = bins, color = base_color)\n",
    "g.set_ylabels('Number of Users');"
   ]
  },
  {
   "cell_type": "markdown",
   "id": "36be1566",
   "metadata": {},
   "source": [
    "Okay,\n",
    "The result is the same across users and their genders. So, users within the age range of 25 - 40years are the highest users of the system.\n",
    "let's explore distance between stations and see if there would be any significant insight therein."
   ]
  },
  {
   "cell_type": "code",
   "execution_count": 74,
   "id": "e711eaf8",
   "metadata": {},
   "outputs": [
    {
     "data": {
      "image/png": "[encoded data removed]",
      "text/plain": [
       "<Figure size 432x288 with 1 Axes>"
      ]
     },
     "metadata": {
      "needs_background": "light"
     },
     "output_type": "display_data"
    }
   ],
   "source": [
    "bins = np.arange(0, 69469.32, 1000) #let the distance run across min and max distance interval\n",
    "sb.histplot(data = ford_gobike_, x = 'distance', bins = bins)\n",
    "plt.title('Distance Between Start and End Start')\n",
    "plt.ylabel('Number of users');"
   ]
  },
  {
   "cell_type": "markdown",
   "id": "86404828",
   "metadata": {},
   "source": [
    "The distance is mostly within 0 and something below 10,000m.\n",
    "Let's cut the distance within the interval of 0 and 10,000 for ease of understanding."
   ]
  },
  {
   "cell_type": "code",
   "execution_count": 82,
   "id": "23cd6600",
   "metadata": {},
   "outputs": [
    {
     "data": {
      "image/png": "[encoded data removed]",
      "text/plain": [
       "<Figure size 432x288 with 1 Axes>"
      ]
     },
     "metadata": {
      "needs_background": "light"
     },
     "output_type": "display_data"
    }
   ],
   "source": [
    "base_color = sb.color_palette()[3]\n",
    "bins = np.arange(0, 10000, 100)\n",
    "sb.histplot(data = ford_gobike_, x = 'distance', bins = bins, color = base_color)\n",
    "plt.title('Distance Between Start and End Start')\n",
    "plt.ylabel('Number of users');\n",
    "#plt.set(xlim = (0, ));"
   ]
  },
  {
   "cell_type": "markdown",
   "id": "c292df5b",
   "metadata": {},
   "source": [
    "For better understanding, let's explore the distance within 0 and 5000m since the display shows greater number of users within the interval."
   ]
  },
  {
   "cell_type": "code",
   "execution_count": 83,
   "id": "c9d0f621",
   "metadata": {},
   "outputs": [
    {
     "data": {
      "image/png": "[encoded data removed]",
      "text/plain": [
       "<Figure size 432x288 with 1 Axes>"
      ]
     },
     "metadata": {
      "needs_background": "light"
     },
     "output_type": "display_data"
    }
   ],
   "source": [
    "base_color = sb.color_palette()[4]\n",
    "bins = np.arange(0, 5000, 100)\n",
    "sb.histplot(data = ford_gobike_, x = 'distance', bins = bins, color = base_color)\n",
    "plt.title('Distance Between Start and End Start')\n",
    "plt.ylabel('Number of users');\n",
    "#plt.set(xlim = (0, ));"
   ]
  },
  {
   "cell_type": "markdown",
   "id": "e67065e7",
   "metadata": {},
   "source": [
    "Stations within 500m - 2000m are mostly visited by the users of the system from the display above.\n",
    "Let's explore further by considering user types."
   ]
  },
  {
   "cell_type": "code",
   "execution_count": 90,
   "id": "318b671d",
   "metadata": {},
   "outputs": [
    {
     "data": {
      "image/png": "[encoded data removed]",
      "text/plain": [
       "<Figure size 432x216 with 2 Axes>"
      ]
     },
     "metadata": {
      "needs_background": "light"
     },
     "output_type": "display_data"
    }
   ],
   "source": [
    "base_color = sb.color_palette()[6]\n",
    "g = sb.FacetGrid(data = ford_gobike_, col = 'user_type', sharey = False)\n",
    "g.map(sb.histplot, 'distance', bins = bins, color = base_color);"
   ]
  },
  {
   "cell_type": "markdown",
   "id": "a50fe7b1",
   "metadata": {},
   "source": [
    "Okay.\n",
    "Most users visit stations between the distance interval of 500m - 2000m.\n",
    "Let's check if there is any relationship between age and distance."
   ]
  },
  {
   "cell_type": "markdown",
   "id": "7875cce8",
   "metadata": {},
   "source": [
    "# What is the relationship between distance and age."
   ]
  },
  {
   "cell_type": "code",
   "execution_count": 108,
   "id": "1d849ded",
   "metadata": {},
   "outputs": [
    {
     "data": {
      "text/plain": [
       "(0.02021938726097074, 2.719541005031223e-17)"
      ]
     },
     "execution_count": 108,
     "metadata": {},
     "output_type": "execute_result"
    }
   ],
   "source": [
    "from scipy.stats import pearsonr\n",
    "pearsonr(ford_gobike_.distance, ford_gobike_.age)"
   ]
  },
  {
   "cell_type": "code",
   "execution_count": 110,
   "id": "38c51fde",
   "metadata": {},
   "outputs": [
    {
     "data": {
      "image/png": "[encoded data removed]",
      "text/plain": [
       "<Figure size 432x288 with 1 Axes>"
      ]
     },
     "metadata": {
      "needs_background": "light"
     },
     "output_type": "display_data"
    }
   ],
   "source": [
    "sb.regplot(data = ford_gobike_, x = 'distance', y = 'age')\n",
    "plt.title('The relationship between distance and age');"
   ]
  },
  {
   "cell_type": "markdown",
   "id": "da5583d9",
   "metadata": {},
   "source": [
    "With result of the plot, pearson corelation value and p-value as 0.02 and 2.72e-17 respectively, the relationship between distance and age isn't significant to bring any insight.\n",
    "Let's explore time interval taken by users"
   ]
  },
  {
   "cell_type": "markdown",
   "id": "8254a5a2",
   "metadata": {},
   "source": [
    "# What time interval is mostly used by the users."
   ]
  },
  {
   "cell_type": "code",
   "execution_count": 111,
   "id": "51174c99",
   "metadata": {},
   "outputs": [
    {
     "data": {
      "image/png": "[encoded data removed]",
      "text/plain": [
       "<Figure size 432x288 with 1 Axes>"
      ]
     },
     "metadata": {
      "needs_background": "light"
     },
     "output_type": "display_data"
    }
   ],
   "source": [
    "sb.histplot(data = ford_gobike_, x = 'time_interval_min', bins = bins)\n",
    "plt.title('Time Distribution by the users')\n",
    "plt.ylabel('Number of users');"
   ]
  },
  {
   "cell_type": "markdown",
   "id": "05ffc807",
   "metadata": {},
   "source": [
    "the result shows that the time interval is mostly within 0 and 200. So, let's cut the plot in bins interval of 0 and 100."
   ]
  },
  {
   "cell_type": "code",
   "execution_count": 123,
   "id": "d8222077",
   "metadata": {},
   "outputs": [
    {
     "data": {
      "image/png": "[encoded data removed]",
      "text/plain": [
       "<Figure size 432x288 with 1 Axes>"
      ]
     },
     "metadata": {
      "needs_background": "light"
     },
     "output_type": "display_data"
    }
   ],
   "source": [
    "bins = np.arange(0, 100, 2)\n",
    "sb.histplot(data = ford_gobike_, x = 'time_interval_min', bins = bins)\n",
    "plt.title('Time Distribution by the users')\n",
    "plt.ylabel('Number of users');"
   ]
  },
  {
   "cell_type": "markdown",
   "id": "67518ed5",
   "metadata": {},
   "source": [
    "The time interval covered by most users is between 2mins - 20mins.\n",
    "Let's consider each user type separately."
   ]
  },
  {
   "cell_type": "code",
   "execution_count": 136,
   "id": "8071b962",
   "metadata": {},
   "outputs": [
    {
     "data": {
      "image/png": "[encoded data removed]",
      "text/plain": [
       "<Figure size 432x216 with 2 Axes>"
      ]
     },
     "metadata": {
      "needs_background": "light"
     },
     "output_type": "display_data"
    }
   ],
   "source": [
    "base_color = sb.color_palette()[5]\n",
    "bins = np.arange(0, 100, 5)\n",
    "g = sb.FacetGrid(data = ford_gobike_, col = 'user_type', sharey = False)\n",
    "g.map(sb.histplot, 'time_interval_min', bins = bins, color = base_color)\n",
    "g.set_ylabels('Number of Users');"
   ]
  },
  {
   "cell_type": "markdown",
   "id": "db53fc4e",
   "metadata": {},
   "source": [
    "The result seems the same. So, let's take it a bit further by considering the genders of each user type"
   ]
  },
  {
   "cell_type": "code",
   "execution_count": 134,
   "id": "c1d99886",
   "metadata": {},
   "outputs": [
    {
     "data": {
      "image/png": "[encoded data removed]",
      "text/plain": [
       "<Figure size 972x432 with 6 Axes>"
      ]
     },
     "metadata": {
      "needs_background": "light"
     },
     "output_type": "display_data"
    }
   ],
   "source": [
    "base_color = sb.color_palette()[4]\n",
    "bins = np.arange(0, 100, 5)\n",
    "g = sb.FacetGrid(data = ford_gobike_, row = 'user_type', col = 'member_gender',\n",
    "                 sharey = False, aspect = 1.5)\n",
    "g.map(sb.histplot, 'time_interval_min', bins = bins, color = base_color)\n",
    "g.set_ylabels('Number of Users');"
   ]
  },
  {
   "cell_type": "markdown",
   "id": "d8386493",
   "metadata": {},
   "source": [
    "Finally, most users are likey to user the bike within a time interval of 2mins to 20mins. Let's check for any relationship between time interval and distance between start stations and end stations."
   ]
  },
  {
   "cell_type": "markdown",
   "id": "11ec03ec",
   "metadata": {},
   "source": [
    "# Relationship between Distance and Time Interval"
   ]
  },
  {
   "cell_type": "code",
   "execution_count": 139,
   "id": "e8789f4b",
   "metadata": {},
   "outputs": [
    {
     "data": {
      "text/plain": [
       "(0.14126227091536947, 0.0)"
      ]
     },
     "execution_count": 139,
     "metadata": {},
     "output_type": "execute_result"
    }
   ],
   "source": [
    "pearsonr(ford_gobike_.distance, ford_gobike_.time_interval_min)"
   ]
  },
  {
   "cell_type": "markdown",
   "id": "d7e03f09",
   "metadata": {},
   "source": [
    "with p value of 0, the relationship between distance and time interval is not certain. So, let's check again with regression line of regplot chart"
   ]
  },
  {
   "cell_type": "code",
   "execution_count": 140,
   "id": "2805d53f",
   "metadata": {},
   "outputs": [
    {
     "data": {
      "image/png": "[encoded data removed]",
      "text/plain": [
       "<Figure size 432x288 with 1 Axes>"
      ]
     },
     "metadata": {
      "needs_background": "light"
     },
     "output_type": "display_data"
    }
   ],
   "source": [
    "sb.regplot(data = ford_gobike_, y = 'distance', x = 'time_interval_min')\n",
    "plt.title('The relationship between distance and time interval');"
   ]
  },
  {
   "cell_type": "markdown",
   "id": "7425209c",
   "metadata": {},
   "source": [
    "Wow...\n",
    "The result still shows the same thing. Hence, there is no relationship distance and time interval."
   ]
  },
  {
   "cell_type": "markdown",
   "id": "9aec69f0",
   "metadata": {},
   "source": [
    "# Conclusions"
   ]
  },
  {
   "cell_type": "markdown",
   "id": "2a8f0d16",
   "metadata": {},
   "source": [
    "The major users of the system; bike sharing system are male subscribers within the age range of 25 - 40 years with Thursday and Tuesday being the days of the week with the highest users."
   ]
  },
  {
   "cell_type": "code",
   "execution_count": 14,
   "id": "dfec611c",
   "metadata": {},
   "outputs": [
    {
     "data": {
      "text/plain": [
       "(array([74267, 69344, 22265,  8044,   829,   127,     4,     1,    70,\n",
       "            1], dtype=int64),\n",
       " array([ 18. ,  30.3,  42.6,  54.9,  67.2,  79.5,  91.8, 104.1, 116.4,\n",
       "        128.7, 141. ]))"
      ]
     },
     "execution_count": 14,
     "metadata": {},
     "output_type": "execute_result"
    }
   ],
   "source": [
    "import numpy as np\n",
    "np.histogram(ford_gobike_.age)"
   ]
  },
  {
   "cell_type": "code",
   "execution_count": null,
   "id": "1066be42",
   "metadata": {},
   "outputs": [],
   "source": []
  }
 ],
 "metadata": {
  "kernelspec": {
   "display_name": "Python 3 (ipykernel)",
   "language": "python",
   "name": "python3"
  },
  "language_info": {
   "codemirror_mode": {
    "name": "ipython",
    "version": 3
   },
   "file_extension": ".py",
   "mimetype": "text/x-python",
   "name": "python",
   "nbconvert_exporter": "python",
   "pygments_lexer": "ipython3",
   "version": "3.8.12"
  }
 },
 "nbformat": 4,
 "nbformat_minor": 5
}
